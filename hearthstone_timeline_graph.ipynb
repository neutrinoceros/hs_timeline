{
 "cells": [
  {
   "cell_type": "markdown",
   "metadata": {},
   "source": [
    "# A timeline of game patches\n",
    "\n",
    "This is inspired from matplotlib's timeline example\n",
    "https://matplotlib.org/3.1.1/gallery/lines_bars_and_markers/timeline.html\n",
    "\n",
    "patches release data is drawn from\n",
    "https://hearthstone.gamepedia.com/Patches"
   ]
  },
  {
   "cell_type": "code",
   "execution_count": null,
   "metadata": {},
   "outputs": [],
   "source": [
    "import datetime\n",
    "\n",
    "import numpy as np\n",
    "import matplotlib.pyplot as plt\n",
    "import matplotlib.dates as mdates\n",
    "import seaborn as sns\n",
    "import pandas as pd\n",
    "from pandas.plotting import register_matplotlib_converters\n",
    "\n",
    "register_matplotlib_converters()\n",
    "plt.style.use(\"seaborn\")\n",
    "sns.set(style=\"ticks\")\n",
    "\n",
    "# comment these lines to use default resolution preview \n",
    "from IPython.display import set_matplotlib_formats\n",
    "set_matplotlib_formats(\"retina\")"
   ]
  },
  {
   "cell_type": "markdown",
   "metadata": {},
   "source": [
    "# Definitions"
   ]
  },
  {
   "cell_type": "code",
   "execution_count": null,
   "metadata": {},
   "outputs": [],
   "source": [
    "DATE_FORMAT = \"%d-%m-%Y\"\n",
    "standard_years_df = pd.read_csv(\"data/standard_years.csv\", index_col=2)\n",
    "df = standard_years_df\n",
    "df.start = pd.to_datetime(df.start, format=DATE_FORMAT)\n",
    "df.end = pd.to_datetime(df.end, format=DATE_FORMAT)\n",
    "df.end = df.end.fillna(pd.to_datetime(\"today\"))\n",
    "\n",
    "def annotate_standard_years(ax, ytitle, color=None, xlim=None):\n",
    "    if color is None:\n",
    "        color = \"orange\"\n",
    "    df = standard_years_df\n",
    "    def _title_parse(name):\n",
    "        if \"year\" in name.lower():\n",
    "            return name\n",
    "        else:\n",
    "            return f\"Year of the\\n{name}\"\n",
    "    df[\"titles\"] = [_title_parse(name) for name in df.index]\n",
    "    for irow, (name, (d1, d2, title)) in enumerate(df.iterrows()):\n",
    "        if xlim is not None:\n",
    "            if d2 < xlim[0]:\n",
    "                continue\n",
    "            if d1 < xlim[0]:\n",
    "                d1 = xlim[0]\n",
    "        ax.text(d1 + (d2-d1)/10, ytitle, title, zorder=10)\n",
    "        ax.axvspan(d1, d2, alpha=0.1+0.3*(irow%2), color=color, zorder=-1)\n",
    "\n",
    "def annotate_patches(ax, kind, levels, linefmt, markerfmt=None):\n",
    "    patches_df = pd.read_csv(\"data/patches_data.csv\", index_col=0)\n",
    "    df = patches_df.query(f\"kind == '{kind}'\")\n",
    "    df.index = pd.to_datetime(df.index, format=DATE_FORMAT)\n",
    "    df = df.sort_values(by=\"date\")\n",
    "\n",
    "    lvls = np.tile(levels, int(np.ceil(len(df.index)/len(levels))))[:len(df.index)]\n",
    "\n",
    "    markerline, stemline, baseline = ax.stem(df.index, lvls,\n",
    "                                             basefmt=\"k-\",\n",
    "                                             linefmt=linefmt,\n",
    "                                             markerfmt=markerfmt,\n",
    "                                             use_line_collection=True)\n",
    "\n",
    "    plt.setp(markerline, mec=\"k\", zorder=3)\n",
    "\n",
    "    # Shift the markers to the baseline by replacing the y-data by zeros.\n",
    "    markerline.set_ydata(np.zeros_like(df.index, dtype=int))\n",
    "\n",
    "    # annotate lines\n",
    "    vert = np.array(['top', 'bottom'])[(lvls > 0).astype(int)]\n",
    "\n",
    "    for d, l, r, va in zip(df.index, lvls, df.description, vert):\n",
    "        ax.annotate(r, xy=(d, l), va=va, ha=\"center\")"
   ]
  },
  {
   "cell_type": "markdown",
   "metadata": {},
   "source": [
    "# Script"
   ]
  },
  {
   "cell_type": "code",
   "execution_count": null,
   "metadata": {},
   "outputs": [],
   "source": [
    "# figure preping\n",
    "fig, ax = plt.subplots(figsize=(25, 3))\n",
    "sns.set_context(\"paper\")\n",
    "\n",
    "# remove axes and spines\n",
    "ax.get_yaxis().set_visible(False)\n",
    "for spine in [\"left\", \"top\", \"right\"]:\n",
    "    ax.spines[spine].set_visible(False)\n",
    "\n",
    "ax.margins(y=0.15)\n",
    "\n",
    "\n",
    "# data plotting\n",
    "annotate_standard_years(ax, ytitle=2.2)\n",
    "annotate_patches(ax, kind=\"expansion\", levels=[1.1, 1.35, 1.6], linefmt=\"C3-\", markerfmt=\"C3o\")\n",
    "annotate_patches(ax, kind=\"adventure\", levels=[0.5], linefmt=\"C0-\")\n",
    "annotate_patches(ax, kind=\"batch\", levels=[0.2, 0.5, 0.8], linefmt=\"C0--\")\n",
    "annotate_patches(ax, kind=\"nerfs\", levels=[-1.35, -1.75, -2.15], linefmt=\"C5:\", markerfmt=\"wo\")\n",
    "annotate_patches(ax, kind=\"feature\", levels=[-0.35, -0.7, -1], linefmt=\"C4--\", markerfmt=\"C4o\")\n",
    "\n",
    "# ticks formatting\n",
    "ax.set_xlim(datetime.datetime(2014,3,1),\n",
    "            datetime.datetime.now() + datetime.timedelta(days=45))\n",
    "ax.get_xaxis().set_major_locator(mdates.MonthLocator(interval=4))\n",
    "ax.get_xaxis().set_minor_locator(mdates.MonthLocator(interval=1))\n",
    "ax.get_xaxis().set_major_formatter(mdates.DateFormatter(\"%b %Y\"))\n",
    "plt.setp(ax.get_xticklabels(), rotation=30, ha=\"right\")\n",
    "\n",
    "# add timeline future/past extension\n",
    "ax.axhline(0, color=\"black\", ls=\"--\", lw=0.6)\n",
    ","
   ]
  },
  {
   "cell_type": "markdown",
   "metadata": {},
   "source": [
    "## legends\n",
    "- red line: expansion release\n",
    "- blue line: adventure release\n",
    "- blue dashed-line: out-of-cycle single-card release\n",
    "- purple dashed-line: feature release\n",
    "- brown dottend-line: nerf patch. Often, more than one card is affected, but I only show one memorable offender for each nerf patch.\n",
    "\n",
    "The distinction Standard/Wild appeared with Whispers from the old Gods (WoG). The first two years were not named, but are however distinct in that their contents was not send to Wild-only at the same point.\n",
    "I consider here the release of an expansion _patch_ to be the marker of a new year, rather than the expansion release itself (usually 2 days to a week later), which is why Rise of Shadows (Ros) appears a bit later than the corresponding Year of the Dragon."
   ]
  },
  {
   "cell_type": "code",
   "execution_count": null,
   "metadata": {},
   "outputs": [],
   "source": []
  }
 ],
 "metadata": {
  "kernelspec": {
   "display_name": "Python 3",
   "language": "python",
   "name": "python3"
  },
  "language_info": {
   "codemirror_mode": {
    "name": "ipython",
    "version": 3
   },
   "file_extension": ".py",
   "mimetype": "text/x-python",
   "name": "python",
   "nbconvert_exporter": "python",
   "pygments_lexer": "ipython3",
   "version": "3.7.5"
  }
 },
 "nbformat": 4,
 "nbformat_minor": 4
}
